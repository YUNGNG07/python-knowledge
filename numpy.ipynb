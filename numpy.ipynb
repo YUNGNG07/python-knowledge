{
 "cells": [
  {
   "cell_type": "markdown",
   "metadata": {},
   "source": [
    "# Python `NumPy` Tutorial"
   ]
  },
  {
   "cell_type": "code",
   "execution_count": 2,
   "metadata": {},
   "outputs": [
    {
     "name": "stdout",
     "output_type": "stream",
     "text": [
      "[ 91.25  54.25  83.25 100.    70.25 100.    93.25  31.25]\n"
     ]
    }
   ],
   "source": [
    "import numpy as np\n",
    "\n",
    "CURVE_CENTER = 80\n",
    "grades = np.array([72, 35, 64, 88, 51, 90, 74, 12])\n",
    "\n",
    "def curve(grades):\n",
    "    average = grades.mean()\n",
    "    change = CURVE_CENTER - average\n",
    "    new_grades = grades + change\n",
    "    # Clip minimum limits to original grades value and maximum limits to 100\n",
    "    return np.clip(new_grades, grades, 100)\n",
    "\n",
    "print(curve(grades))"
   ]
  },
  {
   "cell_type": "code",
   "execution_count": 3,
   "metadata": {},
   "outputs": [
    {
     "name": "stdout",
     "output_type": "stream",
     "text": [
      "(2, 2, 3)\n"
     ]
    }
   ],
   "source": [
    "import numpy as np\n",
    "\n",
    "temperatures = np.array([\n",
    "    29.3, 42.1, 18.8, 16.1, 38.0, 12.5,\n",
    "    12.6, 49.9, 38.6, 31.3, 9.2, 2.2\n",
    "]).reshape(2, 2, 3)\n",
    "\n",
    "print(temperatures.shape)"
   ]
  },
  {
   "cell_type": "code",
   "execution_count": 4,
   "metadata": {},
   "outputs": [
    {
     "data": {
      "text/plain": [
       "array([[[29.3, 16.1],\n",
       "        [42.1, 38. ],\n",
       "        [18.8, 12.5]],\n",
       "\n",
       "       [[12.6, 31.3],\n",
       "        [49.9,  9.2],\n",
       "        [38.6,  2.2]]])"
      ]
     },
     "execution_count": 4,
     "metadata": {},
     "output_type": "execute_result"
    }
   ],
   "source": [
    "np.swapaxes(temperatures, 1, 2)"
   ]
  },
  {
   "cell_type": "code",
   "execution_count": 5,
   "metadata": {},
   "outputs": [
    {
     "name": "stdout",
     "output_type": "stream",
     "text": [
      "9\n"
     ]
    }
   ],
   "source": [
    "import numpy as np\n",
    "\n",
    "table = np.array([\n",
    "    [5, 3, 7, 1],\n",
    "    [2, 6, 7, 9],\n",
    "    [1, 1, 1, 1],\n",
    "    [4, 3, 2, 0],\n",
    "])\n",
    "\n",
    "# Returns the largest value in the entire array\n",
    "print(table.max())"
   ]
  },
  {
   "cell_type": "markdown",
   "metadata": {},
   "source": [
    "## Using `axis=0` with `.max()`\n",
    "\n",
    "Selects the maximum value in each of the 4 vertical sets of values in table and returns an array that has been flattened or aggregated into a one-dimensional array.\n",
    "\n",
    "> `axis=1` will select the maximum value in each of the 4 horizontal sets of values in table"
   ]
  },
  {
   "cell_type": "code",
   "execution_count": 6,
   "metadata": {},
   "outputs": [
    {
     "name": "stdout",
     "output_type": "stream",
     "text": [
      "[5 6 7 9]\n"
     ]
    }
   ],
   "source": [
    "print(table.max(axis=0))"
   ]
  },
  {
   "cell_type": "markdown",
   "metadata": {},
   "source": [
    "## Broadcasting"
   ]
  },
  {
   "cell_type": "code",
   "execution_count": 8,
   "metadata": {},
   "outputs": [
    {
     "name": "stdout",
     "output_type": "stream",
     "text": [
      "[[[ 0  1  2  3  4  5  6  7]]\n",
      "\n",
      " [[ 8  9 10 11 12 13 14 15]]\n",
      "\n",
      " [[16 17 18 19 20 21 22 23]]\n",
      "\n",
      " [[24 25 26 27 28 29 30 31]]]\n"
     ]
    }
   ],
   "source": [
    "import numpy as np\n",
    "\n",
    "A = np.arange(32).reshape(4, 1, 8)\n",
    "print(A)"
   ]
  },
  {
   "cell_type": "code",
   "execution_count": 9,
   "metadata": {},
   "outputs": [
    {
     "name": "stdout",
     "output_type": "stream",
     "text": [
      "[[[ 0  1  2  3  4  5  6  7]\n",
      "  [ 8  9 10 11 12 13 14 15]\n",
      "  [16 17 18 19 20 21 22 23]\n",
      "  [24 25 26 27 28 29 30 31]\n",
      "  [32 33 34 35 36 37 38 39]\n",
      "  [40 41 42 43 44 45 46 47]]]\n"
     ]
    }
   ],
   "source": [
    "B = np.arange(48).reshape(1, 6, 8)\n",
    "print(B)"
   ]
  },
  {
   "cell_type": "code",
   "execution_count": 10,
   "metadata": {},
   "outputs": [
    {
     "name": "stdout",
     "output_type": "stream",
     "text": [
      "[[[ 0  2  4  6  8 10 12 14]\n",
      "  [ 8 10 12 14 16 18 20 22]\n",
      "  [16 18 20 22 24 26 28 30]\n",
      "  [24 26 28 30 32 34 36 38]\n",
      "  [32 34 36 38 40 42 44 46]\n",
      "  [40 42 44 46 48 50 52 54]]\n",
      "\n",
      " [[ 8 10 12 14 16 18 20 22]\n",
      "  [16 18 20 22 24 26 28 30]\n",
      "  [24 26 28 30 32 34 36 38]\n",
      "  [32 34 36 38 40 42 44 46]\n",
      "  [40 42 44 46 48 50 52 54]\n",
      "  [48 50 52 54 56 58 60 62]]\n",
      "\n",
      " [[16 18 20 22 24 26 28 30]\n",
      "  [24 26 28 30 32 34 36 38]\n",
      "  [32 34 36 38 40 42 44 46]\n",
      "  [40 42 44 46 48 50 52 54]\n",
      "  [48 50 52 54 56 58 60 62]\n",
      "  [56 58 60 62 64 66 68 70]]\n",
      "\n",
      " [[24 26 28 30 32 34 36 38]\n",
      "  [32 34 36 38 40 42 44 46]\n",
      "  [40 42 44 46 48 50 52 54]\n",
      "  [48 50 52 54 56 58 60 62]\n",
      "  [56 58 60 62 64 66 68 70]\n",
      "  [64 66 68 70 72 74 76 78]]]\n"
     ]
    }
   ],
   "source": [
    "print(A+B)"
   ]
  },
  {
   "cell_type": "markdown",
   "metadata": {},
   "source": [
    "## Indexing"
   ]
  },
  {
   "cell_type": "code",
   "execution_count": 11,
   "metadata": {},
   "outputs": [],
   "source": [
    "import numpy as np\n",
    "\n",
    "square = np.array([\n",
    "    [16, 3, 2, 13],\n",
    "    [5, 10, 11, 8],\n",
    "    [9, 6, 7, 12],\n",
    "    [4, 15, 14, 1]\n",
    "])\n",
    "\n",
    "for i in range(4):\n",
    "    assert square[:, i].sum() == 34\n",
    "    assert square[i, :].sum() == 34\n",
    "\n",
    "assert square[:2, :2].sum() == 34\n",
    "\n",
    "assert square[2:, :2].sum() == 34\n",
    "\n",
    "assert square[:2, 2:].sum() == 34\n",
    "\n",
    "assert square[2:, 2:].sum() == 34"
   ]
  },
  {
   "cell_type": "markdown",
   "metadata": {},
   "source": [
    "## Transposing, Sorting and Concatenating"
   ]
  },
  {
   "cell_type": "code",
   "execution_count": 12,
   "metadata": {},
   "outputs": [
    {
     "name": "stdout",
     "output_type": "stream",
     "text": [
      "[[1 3 5]\n",
      " [2 4 6]]\n",
      "[[1 3 5]\n",
      " [2 4 6]]\n"
     ]
    }
   ],
   "source": [
    "import numpy as np\n",
    "\n",
    "# Transpose an array\n",
    "a = np.array([\n",
    "    [1, 2],\n",
    "    [3, 4],\n",
    "    [5, 6],\n",
    "])\n",
    "\n",
    "# First method\n",
    "print(a.T)\n",
    "\n",
    "# Second method\n",
    "print(a.transpose())"
   ]
  },
  {
   "cell_type": "code",
   "execution_count": 14,
   "metadata": {},
   "outputs": [
    {
     "name": "stdout",
     "output_type": "stream",
     "text": [
      "[[1 4 7]\n",
      " [5 6 8]\n",
      " [1 2 3]]\n",
      "\n",
      "\n",
      "[1 1 2 3 4 5 6 7 8]\n",
      "\n",
      "\n",
      "[[1 1 3]\n",
      " [7 2 4]\n",
      " [8 6 5]]\n"
     ]
    }
   ],
   "source": [
    "# Sorting an array\n",
    "data = np.array([\n",
    "    [7, 1, 4],\n",
    "    [8, 6, 5],\n",
    "    [1, 2, 3]\n",
    "])\n",
    "\n",
    "print(np.sort(data))\n",
    "print('\\n')\n",
    "print(np.sort(data, axis=None))\n",
    "print('\\n')\n",
    "print(np.sort(data, axis=0))"
   ]
  },
  {
   "cell_type": "code",
   "execution_count": 15,
   "metadata": {},
   "outputs": [
    {
     "name": "stdout",
     "output_type": "stream",
     "text": [
      "[[4 8 3 5]\n",
      " [6 1 7 2]]\n"
     ]
    }
   ],
   "source": [
    "# Concatenate an array\n",
    "a = np.array([\n",
    "    [4, 8],\n",
    "    [6, 1]\n",
    "])\n",
    "\n",
    "b = np.array([\n",
    "    [3, 5],\n",
    "    [7, 2],\n",
    "])\n",
    "\n",
    "# Stack horizontally\n",
    "print(np.hstack((a,b)))"
   ]
  },
  {
   "cell_type": "code",
   "execution_count": 16,
   "metadata": {},
   "outputs": [
    {
     "name": "stdout",
     "output_type": "stream",
     "text": [
      "[[3 5]\n",
      " [7 2]\n",
      " [4 8]\n",
      " [6 1]]\n"
     ]
    }
   ],
   "source": [
    "# Stack vertically\n",
    "print(np.vstack((b,a)))"
   ]
  },
  {
   "cell_type": "code",
   "execution_count": 17,
   "metadata": {},
   "outputs": [
    {
     "name": "stdout",
     "output_type": "stream",
     "text": [
      "[[4 8]\n",
      " [6 1]\n",
      " [3 5]\n",
      " [7 2]]\n"
     ]
    }
   ],
   "source": [
    "print(np.concatenate((a,b)))"
   ]
  },
  {
   "cell_type": "code",
   "execution_count": 19,
   "metadata": {},
   "outputs": [
    {
     "name": "stdout",
     "output_type": "stream",
     "text": [
      "[4 8 6 1 3 5 7 2]\n"
     ]
    }
   ],
   "source": [
    "print(np.concatenate((a,b), axis=None))"
   ]
  },
  {
   "cell_type": "markdown",
   "metadata": {},
   "source": [
    "## Optimizing Storage: Data Types"
   ]
  },
  {
   "cell_type": "code",
   "execution_count": 22,
   "metadata": {},
   "outputs": [
    {
     "data": {
      "text/plain": [
       "array([1. , 3. , 5.5, 7.7, 9.2], dtype=float32)"
      ]
     },
     "execution_count": 22,
     "metadata": {},
     "output_type": "execute_result"
    }
   ],
   "source": [
    "import numpy as np\n",
    "\n",
    "a = np.array([1, 3, 5.5, 7.7, 9.2], dtype=np.single)\n",
    "a"
   ]
  },
  {
   "cell_type": "code",
   "execution_count": 23,
   "metadata": {},
   "outputs": [
    {
     "data": {
      "text/plain": [
       "array([1, 3, 5, 7, 9], dtype=uint8)"
      ]
     },
     "execution_count": 23,
     "metadata": {},
     "output_type": "execute_result"
    }
   ],
   "source": [
    "b = np.array([1, 3, 5.5, 7.7, 9.2], dtype=np.uint8)\n",
    "b"
   ]
  },
  {
   "cell_type": "markdown",
   "metadata": {},
   "source": [
    "## Structured Arrays\n",
    "\n",
    "Also known as __record array__ or __structured array__, users can specify a type and optionally, a name on a per-column basis."
   ]
  },
  {
   "cell_type": "code",
   "execution_count": 24,
   "metadata": {},
   "outputs": [
    {
     "name": "stdout",
     "output_type": "stream",
     "text": [
      "('joe', 32, 6)\n",
      "\n",
      "\n",
      "['joe' 'mary' 'felipe' 'beyonce']\n",
      "\n",
      "\n",
      "['beyonce']\n"
     ]
    }
   ],
   "source": [
    "import numpy as np\n",
    "\n",
    "data = np.array([\n",
    "    (\"joe\", 32, 6),\n",
    "    (\"mary\", 15, 20),\n",
    "    (\"felipe\", 80, 100),\n",
    "    (\"beyonce\", 38, 9001),\n",
    "], dtype=[(\"name\", str, 10), (\"age\", int), (\"power\", int)])\n",
    "\n",
    "print(data[0])\n",
    "print(\"\\n\")\n",
    "print(data[\"name\"])\n",
    "print(\"\\n\")\n",
    "print(data[data[\"power\"] > 9000][\"name\"])"
   ]
  }
 ],
 "metadata": {
  "kernelspec": {
   "display_name": "Python 3",
   "language": "python",
   "name": "python3"
  },
  "language_info": {
   "codemirror_mode": {
    "name": "ipython",
    "version": 3
   },
   "file_extension": ".py",
   "mimetype": "text/x-python",
   "name": "python",
   "nbconvert_exporter": "python",
   "pygments_lexer": "ipython3",
   "version": "3.11.2"
  },
  "orig_nbformat": 4
 },
 "nbformat": 4,
 "nbformat_minor": 2
}
