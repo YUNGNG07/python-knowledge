{
 "cells": [
  {
   "cell_type": "markdown",
   "metadata": {},
   "source": [
    "# Working With Files in Python\n",
    "\n",
    "Reference: [RealPython](https://realpython.com/working-with-files-in-python/)\n",
    "\n",
    "## Directory Listing"
   ]
  },
  {
   "cell_type": "code",
   "execution_count": 1,
   "metadata": {},
   "outputs": [
    {
     "name": "stdout",
     "output_type": "stream",
     "text": [
      "file1.py\n",
      "file2.csv\n",
      "file3.txt\n",
      "sub_dir\n",
      "sub_dir_b\n",
      "sub_dir_c\n"
     ]
    }
   ],
   "source": [
    "import os\n",
    "\n",
    "with os.scandir('my_directory/') as entries:\n",
    "    for entry in entries:\n",
    "        print(entry.name)"
   ]
  },
  {
   "cell_type": "code",
   "execution_count": 2,
   "metadata": {},
   "outputs": [
    {
     "name": "stdout",
     "output_type": "stream",
     "text": [
      "file1.py\n",
      "file2.csv\n",
      "file3.txt\n",
      "sub_dir\n",
      "sub_dir_b\n",
      "sub_dir_c\n"
     ]
    }
   ],
   "source": [
    "# Another way\n",
    "# More efficient\n",
    "from pathlib import Path\n",
    "\n",
    "entries = Path('my_directory/')\n",
    "for entry in entries.iterdir():\n",
    "    print(entry.name)"
   ]
  },
  {
   "cell_type": "markdown",
   "metadata": {},
   "source": [
    "## Listing All Files in a Directory"
   ]
  },
  {
   "cell_type": "code",
   "execution_count": 3,
   "metadata": {},
   "outputs": [
    {
     "name": "stdout",
     "output_type": "stream",
     "text": [
      "file1.py\n",
      "file2.csv\n",
      "file3.txt\n"
     ]
    }
   ],
   "source": [
    "import os\n",
    "\n",
    "# List all files in a directory using os.listdir\n",
    "basepath = 'my_directory/'\n",
    "for entry in os.listdir(basepath):\n",
    "    if os.path.isfile(os.path.join(basepath, entry)):\n",
    "        print(entry)"
   ]
  },
  {
   "cell_type": "code",
   "execution_count": 4,
   "metadata": {},
   "outputs": [
    {
     "name": "stdout",
     "output_type": "stream",
     "text": [
      "file1.py\n",
      "file2.csv\n",
      "file3.txt\n"
     ]
    }
   ],
   "source": [
    "import os\n",
    "\n",
    "# List all files in a directory using scandir()\n",
    "basepath = 'my_directory/'\n",
    "with os.scandir(basepath) as entries:\n",
    "    for entry in entries:\n",
    "        if entry.is_file():\n",
    "            print(entry.name)"
   ]
  },
  {
   "cell_type": "code",
   "execution_count": 5,
   "metadata": {},
   "outputs": [
    {
     "name": "stdout",
     "output_type": "stream",
     "text": [
      "file1.py\n",
      "file2.csv\n",
      "file3.txt\n"
     ]
    }
   ],
   "source": [
    "from pathlib import Path\n",
    "\n",
    "basepath = Path('my_directory/')\n",
    "files_in_basepath = basepath.iterdir()\n",
    "for item in files_in_basepath:\n",
    "    if item.is_file():\n",
    "        print(item.name)"
   ]
  },
  {
   "cell_type": "markdown",
   "metadata": {},
   "source": [
    "## Listing Subdirectories"
   ]
  },
  {
   "cell_type": "code",
   "execution_count": 6,
   "metadata": {},
   "outputs": [
    {
     "name": "stdout",
     "output_type": "stream",
     "text": [
      "sub_dir\n",
      "sub_dir_b\n",
      "sub_dir_c\n"
     ]
    }
   ],
   "source": [
    "import os\n",
    "\n",
    "# List all subdirectories using os.listdir\n",
    "basepath = 'my_directory/'\n",
    "for entry in os.listdir(basepath):\n",
    "    if os.path.isdir(os.path.join(basepath, entry)):\n",
    "        print(entry)"
   ]
  },
  {
   "cell_type": "code",
   "execution_count": 7,
   "metadata": {},
   "outputs": [
    {
     "name": "stdout",
     "output_type": "stream",
     "text": [
      "sub_dir\n",
      "sub_dir_b\n",
      "sub_dir_c\n"
     ]
    }
   ],
   "source": [
    "import os\n",
    "\n",
    "# List all subdirectories using scandir()\n",
    "basepath = 'my_directory/'\n",
    "with os.scandir(basepath) as entries:\n",
    "    for entry in entries:\n",
    "        if entry.is_dir():\n",
    "            print(entry.name)"
   ]
  },
  {
   "cell_type": "code",
   "execution_count": 8,
   "metadata": {},
   "outputs": [
    {
     "name": "stdout",
     "output_type": "stream",
     "text": [
      "sub_dir\n",
      "sub_dir_b\n",
      "sub_dir_c\n"
     ]
    }
   ],
   "source": [
    "from pathlib import Path\n",
    "\n",
    "# List all subdirectory using pathlib\n",
    "basepath = Path('my_directory/')\n",
    "for entry in basepath.iterdir():\n",
    "    if entry.is_dir():\n",
    "        print(entry.name)"
   ]
  },
  {
   "cell_type": "markdown",
   "metadata": {},
   "source": [
    "## Getting File Attributes"
   ]
  },
  {
   "cell_type": "code",
   "execution_count": 9,
   "metadata": {},
   "outputs": [
    {
     "name": "stdout",
     "output_type": "stream",
     "text": [
      "1689835066.9676592\n",
      "1689835071.7374473\n",
      "1689835096.0757575\n",
      "1689835681.484903\n",
      "1689835115.7388773\n",
      "1689835110.417349\n"
     ]
    }
   ],
   "source": [
    "import os\n",
    "\n",
    "# Time since the content of the file was last modified\n",
    "with os.scandir('my_directory/') as dir_contents:\n",
    "     for entry in dir_contents:\n",
    "         info = entry.stat()\n",
    "         print(info.st_mtime)"
   ]
  },
  {
   "cell_type": "code",
   "execution_count": 10,
   "metadata": {},
   "outputs": [
    {
     "name": "stdout",
     "output_type": "stream",
     "text": [
      "1689835066.9676592\n",
      "1689835071.7374473\n",
      "1689835096.0757575\n",
      "1689835681.484903\n",
      "1689835115.7388773\n",
      "1689835110.417349\n"
     ]
    }
   ],
   "source": [
    "from pathlib import Path\n",
    "\n",
    "current_dir = Path('my_directory')\n",
    "for path in current_dir.iterdir():\n",
    "     info = path.stat()\n",
    "     print(info.st_mtime)"
   ]
  },
  {
   "cell_type": "code",
   "execution_count": 12,
   "metadata": {},
   "outputs": [
    {
     "name": "stdout",
     "output_type": "stream",
     "text": [
      "file1.py\t Last Modified: 20 Jul 2023\n",
      "file2.csv\t Last Modified: 20 Jul 2023\n",
      "file3.txt\t Last Modified: 20 Jul 2023\n"
     ]
    }
   ],
   "source": [
    "# Function to convert the seconds into a datetime object\n",
    "\n",
    "from datetime import datetime\n",
    "from os import scandir\n",
    "\n",
    "def convert_date(timestamp):\n",
    "    d = datetime.utcfromtimestamp(timestamp)\n",
    "    formated_date = d.strftime('%d %b %Y')\n",
    "    return formated_date\n",
    "\n",
    "def get_files():\n",
    "    dir_entries = scandir('my_directory/')\n",
    "    for entry in dir_entries:\n",
    "        if entry.is_file():\n",
    "            info = entry.stat()\n",
    "            print(f'{entry.name}\\t Last Modified: {convert_date(info.st_mtime)}')\n",
    "\n",
    "get_files()"
   ]
  },
  {
   "cell_type": "markdown",
   "metadata": {},
   "source": [
    "## Traversing Directories and Processing Files"
   ]
  },
  {
   "cell_type": "code",
   "execution_count": 14,
   "metadata": {},
   "outputs": [
    {
     "name": "stdout",
     "output_type": "stream",
     "text": [
      "Found directory: my_directory\n",
      "file1.py\n",
      "file2.csv\n",
      "file3.txt\n",
      "Found directory: my_directory\\sub_dir\n",
      "bar.py\n",
      "foo.py\n",
      "Found directory: my_directory\\sub_dir_b\n",
      "file4.txt\n",
      "Found directory: my_directory\\sub_dir_c\n",
      "config.py\n",
      "file5.txt\n"
     ]
    }
   ],
   "source": [
    "# Walking a directory tree and printing the names of the directories and files\n",
    "for dirpath, dirnames, files in os.walk('my_directory'):\n",
    "    print(f'Found directory: {dirpath}')\n",
    "    for file_name in files:\n",
    "        print(file_name)"
   ]
  },
  {
   "cell_type": "markdown",
   "metadata": {},
   "source": [
    "To traverse the directory tree in a bottom-up manner, pass in a `topdown=False` keyword argument to `os.walk()`:"
   ]
  },
  {
   "cell_type": "code",
   "execution_count": 16,
   "metadata": {},
   "outputs": [
    {
     "name": "stdout",
     "output_type": "stream",
     "text": [
      "Found directory: my_directory\\sub_dir\n",
      "bar.py\n",
      "foo.py\n",
      "Found directory: my_directory\\sub_dir_b\n",
      "file4.txt\n",
      "Found directory: my_directory\\sub_dir_c\n",
      "config.py\n",
      "file5.txt\n",
      "Found directory: my_directory\n",
      "file1.py\n",
      "file2.csv\n",
      "file3.txt\n"
     ]
    }
   ],
   "source": [
    "for dirpath, dirnames, files in os.walk('my_directory', topdown=False):\n",
    "    print(f'Found directory: {dirpath}')\n",
    "    for file_name in files:\n",
    "        print(file_name)"
   ]
  }
 ],
 "metadata": {
  "kernelspec": {
   "display_name": "Python 3",
   "language": "python",
   "name": "python3"
  },
  "language_info": {
   "codemirror_mode": {
    "name": "ipython",
    "version": 3
   },
   "file_extension": ".py",
   "mimetype": "text/x-python",
   "name": "python",
   "nbconvert_exporter": "python",
   "pygments_lexer": "ipython3",
   "version": "3.11.2"
  },
  "orig_nbformat": 4
 },
 "nbformat": 4,
 "nbformat_minor": 2
}
