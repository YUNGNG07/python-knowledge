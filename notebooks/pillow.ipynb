{
 "cells": [
  {
   "cell_type": "markdown",
   "metadata": {},
   "source": [
    "# Image Processing using the `Pillow` Python library"
   ]
  },
  {
   "cell_type": "code",
   "execution_count": 2,
   "metadata": {},
   "outputs": [
    {
     "name": "stdout",
     "output_type": "stream",
     "text": [
      "<PixelAccess object at 0x000001D4FCC98810>\n"
     ]
    }
   ],
   "source": [
    "# Open image\n",
    "from PIL import Image\n",
    "\n",
    "filename = 'files/download.jpg'\n",
    "# Read image from file\n",
    "with Image.open(filename) as img:\n",
    "    # Read image into memory so file can now be closed\n",
    "    print(img.load())"
   ]
  },
  {
   "cell_type": "code",
   "execution_count": 3,
   "metadata": {},
   "outputs": [
    {
     "name": "stdout",
     "output_type": "stream",
     "text": [
      "JPEG\n",
      "(183, 275)\n",
      "RGB\n"
     ]
    }
   ],
   "source": [
    "# Show image\n",
    "img.show()\n",
    "\n",
    "# Image metadata\n",
    "print(img.format)\n",
    "print(img.size)\n",
    "print(img.mode)"
   ]
  },
  {
   "cell_type": "code",
   "execution_count": 4,
   "metadata": {},
   "outputs": [
    {
     "name": "stdout",
     "output_type": "stream",
     "text": [
      "(95, 200)\n"
     ]
    }
   ],
   "source": [
    "# Crop image\n",
    "cropped_img = img.crop((46, 45, 141, 245))\n",
    "print(cropped_img.size)\n",
    "\n",
    "cropped_img.show()"
   ]
  },
  {
   "cell_type": "code",
   "execution_count": 5,
   "metadata": {},
   "outputs": [],
   "source": [
    "# Resize image\n",
    "low_res_img = cropped_img.resize(\n",
    "    (cropped_img.width // 4, cropped_img.height // 4)\n",
    ")\n",
    "low_res_img.show()"
   ]
  },
  {
   "cell_type": "code",
   "execution_count": 6,
   "metadata": {},
   "outputs": [],
   "source": [
    "# Alternative way to reduce image scale\n",
    "low_res_img = cropped_img.reduce(4)"
   ]
  },
  {
   "cell_type": "code",
   "execution_count": 7,
   "metadata": {},
   "outputs": [],
   "source": [
    "# Save cropped image\n",
    "cropped_img.save('files/cropped_img.jpg')"
   ]
  },
  {
   "cell_type": "code",
   "execution_count": 8,
   "metadata": {},
   "outputs": [],
   "source": [
    "# Rotate or flip image\n",
    "converted_img = img.transpose(Image.FLIP_TOP_BOTTOM)\n",
    "converted_img.show()\n",
    "\n",
    "rotated_img = img.rotate(45, expand=True)\n",
    "rotated_img.show()"
   ]
  },
  {
   "cell_type": "code",
   "execution_count": 9,
   "metadata": {},
   "outputs": [
    {
     "name": "stdout",
     "output_type": "stream",
     "text": [
      "<PixelAccess object at 0x000001D4FCC17AD0>\n"
     ]
    }
   ],
   "source": [
    "from PIL import Image, ImageFilter\n",
    "\n",
    "filename = 'files/Dubai_Marina_Skyline.jpg'\n",
    "# Read image from file\n",
    "with Image.open(filename) as img:\n",
    "    # Read image into memory so file can now be closed\n",
    "    print(img.load())\n",
    "\n",
    "img_gray = img.convert('L')\n",
    "img_gray_smooth = img_gray.filter(ImageFilter.SMOOTH)\n",
    "edges_smooth = img_gray_smooth.filter(ImageFilter.FIND_EDGES)\n",
    "edges_smooth.show()"
   ]
  },
  {
   "cell_type": "code",
   "execution_count": 10,
   "metadata": {},
   "outputs": [],
   "source": [
    "emboss = img_gray_smooth.filter(ImageFilter.EMBOSS)\n",
    "emboss.show()"
   ]
  }
 ],
 "metadata": {
  "kernelspec": {
   "display_name": "Python 3",
   "language": "python",
   "name": "python3"
  },
  "language_info": {
   "codemirror_mode": {
    "name": "ipython",
    "version": 3
   },
   "file_extension": ".py",
   "mimetype": "text/x-python",
   "name": "python",
   "nbconvert_exporter": "python",
   "pygments_lexer": "ipython3",
   "version": "3.11.2"
  },
  "orig_nbformat": 4
 },
 "nbformat": 4,
 "nbformat_minor": 2
}
