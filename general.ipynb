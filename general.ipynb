{
 "cells": [
  {
   "cell_type": "markdown",
   "metadata": {},
   "source": [
    "# Python General Knowledge"
   ]
  },
  {
   "cell_type": "markdown",
   "metadata": {},
   "source": [
    "## Programming Terms"
   ]
  },
  {
   "cell_type": "markdown",
   "metadata": {},
   "source": [
    "1. `attribute`\n",
    "   \n",
    "   A value associated with an object which is usually referenced by name using dotted expressions.\n",
    "\n",
    "   __Example:__\n",
    "   \n",
    "   Object: o\n",
    "   \n",
    "   Attribute: a\n",
    "   ```py\n",
    "   # To reference an attribute\n",
    "   o.a\n",
    "   ```\n",
    "\n",
    "   It is possible to give an object an attribute whose name is not an identifier (`setattr()`), said attribute must be retrieved with `getattr()`.\n",
    "\n",
    "2. `identifier` (also referred to as _names_)\n",
    "   \n",
    "   Within the ASCII range (U+0001..U+007F), the valid characters for identifiers: the uppercase and lowercase letters `A` through `Z`, the underscore `_` and, except for the first character, the digits `0` through `9`.\n",
    "\n",
    "3. `keywords`\n",
    "   \n",
    "   Reserved words used for Python and cannot be used as ordinary identifiers.\n",
    "\n",
    "   __Example:__\n",
    "   ```py\n",
    "   False      await      else       import     pass\n",
    "   None       break      except     in         raise\n",
    "   True       class      finally    is         return\n",
    "   and        continue   for        lambda     try\n",
    "   as         def        from       nonlocal   while\n",
    "   assert     del        global     not        with\n",
    "   async      elif       if         or         yield\n",
    "   ```\n",
    "\n",
    "4. `immutable`\n",
    "   \n",
    "   The object as represented in memory cannot be directly altered. Example: `tuple`, `string` etc.\n",
    "\n",
    "5. `static methods`\n",
    "   \n",
    "   __Example:__\n",
    "\n",
    "   ```py\n",
    "   str.split('a, b, c', ',')\n",
    "   ```\n",
    "\n",
    "6. `instance methods`\n",
    "\n",
    "   Methods that are called as instances of an object.\n",
    "   \n",
    "   __Example:__\n",
    "\n",
    "   ```py\n",
    "   'a, b, c'.split(',')\n",
    "   ```\n",
    "\n",
    "7. `in-place operations`\n",
    "   \n",
    "   Operations that directly change the object on which they are called. \n",
    "\n",
    "   __Example__:\n",
    "\n",
    "   `.append()` method that is used on lists: the list is directly changed by adding the input to `.append()` to the same list.\n",
    "\n",
    "   __*Note:*__\n",
    "\n",
    "   > String methods are not __in-place operations__, but they return a _new_ object in memory."
   ]
  },
  {
   "cell_type": "markdown",
   "metadata": {},
   "source": [
    "## Application Layouts"
   ]
  },
  {
   "cell_type": "markdown",
   "metadata": {},
   "source": [
    "### Basic layout:\n",
    "\n",
    "```\n",
    "helloworld/\n",
    "│\n",
    "├── .gitignore\n",
    "├── helloworld.py\n",
    "├── LICENSE\n",
    "├── README.md\n",
    "├── requirements.txt\n",
    "├── setup.py\n",
    "└── tests.py\n",
    "```\n",
    "\n",
    "### Installable Single Package:\n",
    "\n",
    "`__init__.py` is invoked when the package or a module in the package is imported. This can be used for execution of package initialization code (initialization of package-level data).\n",
    "\n",
    "It can also be used to effect automatic importing of modules from a package.\n",
    "\n",
    "```\n",
    "helloworld/\n",
    "│\n",
    "├── helloworld/\n",
    "│   ├── __init__.py\n",
    "│   ├── helloworld.py\n",
    "│   └── helpers.py\n",
    "│\n",
    "├── tests/\n",
    "│   ├── helloworld_tests.py\n",
    "│   └── helpers_tests.py\n",
    "│\n",
    "├── .gitignore\n",
    "├── LICENSE\n",
    "├── README.md\n",
    "├── requirements.txt\n",
    "└── setup.py\n",
    "```\n",
    "\n",
    "### Application with Internal Packages:\n",
    "\n",
    "```\n",
    "helloworld/\n",
    "│\n",
    "├── bin/\n",
    "│\n",
    "├── docs/\n",
    "│   ├── hello.md\n",
    "│   └── world.md\n",
    "│\n",
    "├── helloworld/\n",
    "│   ├── __init__.py\n",
    "│   ├── runner.py\n",
    "│   ├── hello/\n",
    "│   │   ├── __init__.py\n",
    "│   │   ├── hello.py\n",
    "│   │   └── helpers.py\n",
    "│   │\n",
    "│   └── world/\n",
    "│       ├── __init__.py\n",
    "│       ├── helpers.py\n",
    "│       └── world.py\n",
    "│\n",
    "├── data/\n",
    "│   ├── input.csv\n",
    "│   └── output.xlsx\n",
    "│\n",
    "├── tests/\n",
    "│   ├── hello\n",
    "│   │   ├── helpers_tests.py\n",
    "│   │   └── hello_tests.py\n",
    "│   │\n",
    "│   └── world/\n",
    "│       ├── helpers_tests.py\n",
    "│       └── world_tests.py\n",
    "│\n",
    "├── .gitignore\n",
    "├── LICENSE\n",
    "└── README.md\n",
    "```"
   ]
  },
  {
   "cell_type": "markdown",
   "metadata": {},
   "source": [
    "## Python Namespaces and Scopes"
   ]
  },
  {
   "cell_type": "markdown",
   "metadata": {},
   "source": [
    "### LEGB Rule for Namespaces\n",
    "\n",
    "Built-in (Names of all of Python's built-in objects)\n",
    "    Global (Contains any names defined at the level of the main program,\n",
    "            variables defined by `global` keyword, \n",
    "            any module the program loads with `import` statement)\n",
    "        Enclosing (Function A)\n",
    "            Local (Function B defined in Function A)\n",
    "\n",
    "Objects in global namespace can be accessed through the built-in `global()` function.\n",
    "\n",
    "Objects in the local namespace can be accessed through the built-in `locals()` function."
   ]
  },
  {
   "cell_type": "markdown",
   "metadata": {},
   "source": [
    "### Global scope"
   ]
  },
  {
   "cell_type": "code",
   "execution_count": 9,
   "metadata": {},
   "outputs": [
    {
     "name": "stdout",
     "output_type": "stream",
     "text": [
      "Inside f(): 20\n",
      "Glabal: 40\n"
     ]
    }
   ],
   "source": [
    "def f():\n",
    "    x = 20\n",
    "\n",
    "    def g():\n",
    "        global x\n",
    "        x = 40\n",
    "\n",
    "    g()\n",
    "    print('Inside f(): ' + str(x))\n",
    "\n",
    "f()\n",
    "print('Glabal: ' + str(x))"
   ]
  },
  {
   "cell_type": "markdown",
   "metadata": {},
   "source": [
    "### Modify enclosing variables using `nonlocal` keyword"
   ]
  },
  {
   "cell_type": "code",
   "execution_count": 10,
   "metadata": {},
   "outputs": [
    {
     "name": "stdout",
     "output_type": "stream",
     "text": [
      "40\n"
     ]
    }
   ],
   "source": [
    "def f():\n",
    "    x = 20\n",
    "\n",
    "    def g():\n",
    "        nonlocal x\n",
    "        x = 40\n",
    "\n",
    "    g()\n",
    "    print(x)\n",
    "\n",
    "f()"
   ]
  },
  {
   "cell_type": "markdown",
   "metadata": {},
   "source": [
    "## Data Types"
   ]
  },
  {
   "cell_type": "markdown",
   "metadata": {},
   "source": [
    "### Integers\n",
    "\n",
    "In Python 3, there is effectively no limit to how long an integer value can be (still constrained by the amount of memory the system has)."
   ]
  },
  {
   "cell_type": "markdown",
   "metadata": {},
   "source": [
    "### Floating-Point Numbers\n",
    "\n",
    "`float` values are specified with a decimal point, or optionally, the character `e` or `E` followed by a positive or negative integer (scientific notation).\n",
    "\n",
    "If a floating-point number is greater than the upper limit, Python will indicate the number by the string `inf`:\n",
    "\n",
    "```python\n",
    ">>> 1.79e308\n",
    "1.79e+308\n",
    ">>> 1.8e308\n",
    "inf\n",
    "```\n",
    "\n",
    "The closest a nonzero number can be to zero is approximately 5.0 x 10^(-324). Anything closer to a zero than that is effectively zero."
   ]
  },
  {
   "cell_type": "markdown",
   "metadata": {},
   "source": [
    "### String\n",
    "\n",
    "| **Escaped Sequence** |          **\"Escaped\" Interpretation**         |\n",
    "|:--------------------:|:---------------------------------------------:|\n",
    "|         \\ooo         |         Character with octal value ooo        |\n",
    "|         \\xhh         |          Character with hex value hh          |"
   ]
  },
  {
   "cell_type": "markdown",
   "metadata": {},
   "source": [
    "## String Formatting\n",
    "\n",
    "### 1. %-formatting"
   ]
  },
  {
   "cell_type": "code",
   "execution_count": 2,
   "metadata": {},
   "outputs": [
    {
     "name": "stdout",
     "output_type": "stream",
     "text": [
      "Hello, Eric Idle. You are 74. You are a comedian. You were a member of Monty Python.\n"
     ]
    }
   ],
   "source": [
    "first_name = \"Eric\"\n",
    "last_name = \"Idle\"\n",
    "age = 74\n",
    "profession = \"comedian\"\n",
    "affiliation = \"Monty Python\"\n",
    "print(\"Hello, %s %s. You are %s. You are a %s. You were a member of %s.\" % (first_name, last_name, age, profession, affiliation))"
   ]
  },
  {
   "cell_type": "markdown",
   "metadata": {},
   "source": [
    "__*Note*__:\n",
    "\n",
    "> Not recommended as code will quickly become less easily readable after using several parameters and longer strings. It also leads to errors like not displaying tuples or dictionaries correctly."
   ]
  },
  {
   "cell_type": "markdown",
   "metadata": {},
   "source": [
    "### 2. str.format()\n",
    "\n",
    "Replacement fields are marked by curly braces and can reference variables in any order by referencing their index."
   ]
  },
  {
   "cell_type": "code",
   "execution_count": 3,
   "metadata": {},
   "outputs": [
    {
     "name": "stdout",
     "output_type": "stream",
     "text": [
      "Hello, Eric. You are 74.\n"
     ]
    }
   ],
   "source": [
    "name = 'Eric'\n",
    "age = '74'\n",
    "print(\"Hello, {}. You are {}.\".format(name, age))"
   ]
  },
  {
   "cell_type": "code",
   "execution_count": 4,
   "metadata": {},
   "outputs": [
    {
     "name": "stdout",
     "output_type": "stream",
     "text": [
      "Hello, Eric. You are 74.\n"
     ]
    }
   ],
   "source": [
    "print(\"Hello, {1}. You are {0}.\".format(age, name))"
   ]
  },
  {
   "cell_type": "code",
   "execution_count": 5,
   "metadata": {},
   "outputs": [
    {
     "name": "stdout",
     "output_type": "stream",
     "text": [
      "Hello, Eric. You are 74.\n"
     ]
    }
   ],
   "source": [
    "person = {'name': 'Eric', 'age': 74}\n",
    "print(\"Hello, {name}. You are {age}.\".format(name=person['name'], age=person['age']))"
   ]
  },
  {
   "cell_type": "markdown",
   "metadata": {},
   "source": [
    "Can also use `**` with dictionaries"
   ]
  },
  {
   "cell_type": "code",
   "execution_count": 6,
   "metadata": {},
   "outputs": [
    {
     "name": "stdout",
     "output_type": "stream",
     "text": [
      "Hello, Eric. You are 74.\n"
     ]
    }
   ],
   "source": [
    "person = {'name': 'Eric', 'age': 74}\n",
    "print(\"Hello, {name}. You are {age}.\".format(**person))"
   ]
  },
  {
   "cell_type": "markdown",
   "metadata": {},
   "source": [
    "__*Note*__:\n",
    "\n",
    "> Not really recommended to use."
   ]
  },
  {
   "cell_type": "markdown",
   "metadata": {},
   "source": [
    "### 3. f-Strings\n",
    "\n",
    "Also called \"formatted string literals\", f-strings are string literals that have an f at the beginning and curly braces containing expressions that will be replaced with their values."
   ]
  },
  {
   "cell_type": "code",
   "execution_count": 7,
   "metadata": {},
   "outputs": [
    {
     "name": "stdout",
     "output_type": "stream",
     "text": [
      "Hello, Eric. You are 74.\n"
     ]
    }
   ],
   "source": [
    "name = \"Eric\"\n",
    "age = 74\n",
    "print(f\"Hello, {name}. You are {age}.\")"
   ]
  },
  {
   "cell_type": "code",
   "execution_count": 8,
   "metadata": {},
   "outputs": [
    {
     "name": "stdout",
     "output_type": "stream",
     "text": [
      "74\n",
      "eric idle is funny.\n",
      "eric idle is funny.\n"
     ]
    }
   ],
   "source": [
    "# Example 1\n",
    "print(f\"{2 * 37}\")\n",
    "\n",
    "# Example 2\n",
    "def to_lowercase(input):\n",
    "    return input.lower()\n",
    "\n",
    "name = \"Eric Idle\"\n",
    "print(f\"{to_lowercase(name)} is funny.\")\n",
    "\n",
    "print(f\"{name.lower()} is funny.\")"
   ]
  },
  {
   "cell_type": "code",
   "execution_count": 9,
   "metadata": {},
   "outputs": [
    {
     "name": "stdout",
     "output_type": "stream",
     "text": [
      "Eric Idle is 74.\n"
     ]
    }
   ],
   "source": [
    "# Example 3\n",
    "class Comedian:\n",
    "    def __init__(self, first_name, last_name, age):\n",
    "        self.first_name = first_name\n",
    "        self.last_name = last_name\n",
    "        self.age = age\n",
    "\n",
    "    # Deal with how objects are presented as strings\n",
    "    def __str__(self):\n",
    "        return f\"{self.first_name} {self.last_name} is {self.age}.\"\n",
    "\n",
    "    # Recommended as it can be used in place of __str__()\n",
    "    def __repr__(self):\n",
    "        return f\"{self.first_name} {self.last_name} is {self.age}. Surprise!\"\n",
    "    \n",
    "new_comedian = Comedian(\"Eric\", \"Idle\", \"74\")\n",
    "print(f\"{new_comedian}\")"
   ]
  },
  {
   "cell_type": "code",
   "execution_count": 12,
   "metadata": {},
   "outputs": [
    {
     "name": "stdout",
     "output_type": "stream",
     "text": [
      "f-strings will use __str__() by default: \n",
      "Eric Idle is 74.\n",
      "\n",
      "But can make sure they use __repr__() by including the conversion flag !r: \n",
      "Eric Idle is 74. Surprise!\n"
     ]
    }
   ],
   "source": [
    "print('f-strings will use __str__() by default: ')\n",
    "print(f\"{new_comedian}\\n\")\n",
    "\n",
    "print('But can make sure they use __repr__() by including the conversion flag !r: ')\n",
    "print(f\"{new_comedian!r}\")"
   ]
  },
  {
   "cell_type": "markdown",
   "metadata": {},
   "source": [
    "__*Note*__:\n",
    "\n",
    "> Need to place an `f` in front of each line of a multiline string for f-strings to work."
   ]
  },
  {
   "cell_type": "code",
   "execution_count": 13,
   "metadata": {},
   "outputs": [
    {
     "name": "stdout",
     "output_type": "stream",
     "text": [
      "Hi Eric. You are a comedian. You were in Monty Python.\n"
     ]
    }
   ],
   "source": [
    "name = \"Eric\"\n",
    "profession = \"comedian\"\n",
    "affiliation = \"Monty Python\"\n",
    "message = (\n",
    "    f\"Hi {name}. \"\n",
    "    f\"You are a {profession}. \"\n",
    "    f\"You were in {affiliation}.\"\n",
    ")\n",
    "print(message)"
   ]
  },
  {
   "cell_type": "markdown",
   "metadata": {},
   "source": [
    "## Exceptions"
   ]
  },
  {
   "cell_type": "markdown",
   "metadata": {},
   "source": [
    "Use `raise` to throw an exception if a condition occurs.\n",
    "\n"
   ]
  },
  {
   "cell_type": "markdown",
   "metadata": {},
   "source": [
    "### The `AssertionError` Exception\n",
    "\n",
    "User `assert` that a certain condition is met; if condition is `True`, program will continue; if condition is `False`, the program will throw an `AssertionError` exception."
   ]
  },
  {
   "cell_type": "code",
   "execution_count": 14,
   "metadata": {},
   "outputs": [
    {
     "ename": "AssertionError",
     "evalue": "This code runs on Linux only.",
     "output_type": "error",
     "traceback": [
      "\u001b[1;31m---------------------------------------------------------------------------\u001b[0m",
      "\u001b[1;31mAssertionError\u001b[0m                            Traceback (most recent call last)",
      "Cell \u001b[1;32mIn[14], line 4\u001b[0m\n\u001b[0;32m      1\u001b[0m \u001b[39m# Example\u001b[39;00m\n\u001b[0;32m      2\u001b[0m \u001b[39mimport\u001b[39;00m \u001b[39msys\u001b[39;00m\n\u001b[1;32m----> 4\u001b[0m \u001b[39massert\u001b[39;00m(\u001b[39m'\u001b[39m\u001b[39mlinux\u001b[39m\u001b[39m'\u001b[39m \u001b[39min\u001b[39;00m sys\u001b[39m.\u001b[39mplatform), \u001b[39m'\u001b[39m\u001b[39mThis code runs on Linux only.\u001b[39m\u001b[39m'\u001b[39m\n",
      "\u001b[1;31mAssertionError\u001b[0m: This code runs on Linux only."
     ]
    }
   ],
   "source": [
    "# Example\n",
    "import sys\n",
    "\n",
    "assert('linux' in sys.platform), 'This code runs on Linux only.'"
   ]
  },
  {
   "cell_type": "markdown",
   "metadata": {},
   "source": [
    "### `try` and `except` Block: Handling Exceptions"
   ]
  },
  {
   "cell_type": "markdown",
   "metadata": {},
   "source": [
    "`try`:\n",
    "```\n",
    "    Executes normal code following the statement.\n",
    "```\n",
    "\n",
    "`except`:\n",
    "```\n",
    "    The program's response to any exceptions in the preceding try clause.\n",
    "```"
   ]
  },
  {
   "cell_type": "code",
   "execution_count": 15,
   "metadata": {},
   "outputs": [
    {
     "name": "stdout",
     "output_type": "stream",
     "text": [
      "Linux function was not executed.\n"
     ]
    }
   ],
   "source": [
    "def linux_interaction():\n",
    "    assert('linux' in sys.platform), 'Function can only run on Linux systems.'\n",
    "    print('Doing something.')\n",
    "\n",
    "try:\n",
    "    linux_interaction()\n",
    "except:\n",
    "    print('Linux function was not executed.')"
   ]
  },
  {
   "cell_type": "code",
   "execution_count": 16,
   "metadata": {},
   "outputs": [
    {
     "name": "stdout",
     "output_type": "stream",
     "text": [
      "Function can only run on Linux systems.\n",
      "The linux_interaction() function was not executed.\n"
     ]
    }
   ],
   "source": [
    "def linux_interaction():\n",
    "    assert('linux' in sys.platform), 'Function can only run on Linux systems.'\n",
    "    print('Doing something.')\n",
    "\n",
    "try:\n",
    "    linux_interaction()\n",
    "except AssertionError as error:\n",
    "    print(error)\n",
    "    print('The linux_interaction() function was not executed.')"
   ]
  },
  {
   "cell_type": "code",
   "execution_count": 18,
   "metadata": {},
   "outputs": [
    {
     "name": "stdout",
     "output_type": "stream",
     "text": [
      "[Errno 2] No such file or directory: 'file.log'\n"
     ]
    }
   ],
   "source": [
    "try:\n",
    "    with open('file.log') as file:\n",
    "        read_data = file.read()\n",
    "except FileNotFoundError as fnf_error:\n",
    "    print(fnf_error)"
   ]
  }
 ],
 "metadata": {
  "kernelspec": {
   "display_name": "Python 3",
   "language": "python",
   "name": "python3"
  },
  "language_info": {
   "codemirror_mode": {
    "name": "ipython",
    "version": 3
   },
   "file_extension": ".py",
   "mimetype": "text/x-python",
   "name": "python",
   "nbconvert_exporter": "python",
   "pygments_lexer": "ipython3",
   "version": "3.11.2"
  },
  "orig_nbformat": 4
 },
 "nbformat": 4,
 "nbformat_minor": 2
}
