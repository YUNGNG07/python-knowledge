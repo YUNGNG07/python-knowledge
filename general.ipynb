{
 "cells": [
  {
   "cell_type": "markdown",
   "metadata": {},
   "source": [
    "# Python General Knowledge"
   ]
  },
  {
   "cell_type": "markdown",
   "metadata": {},
   "source": [
    "## Programming Terms"
   ]
  },
  {
   "cell_type": "markdown",
   "metadata": {},
   "source": [
    "1. `attribute`\n",
    "   \n",
    "   A value associated with an object which is usually referenced by name using dotted expressions.\n",
    "\n",
    "   __Example:__\n",
    "   \n",
    "   Object: o\n",
    "   \n",
    "   Attribute: a\n",
    "   ```py\n",
    "   # To reference an attribute\n",
    "   >>> o.a\n",
    "   ```\n",
    "\n",
    "   It is possible to give an object an attribute whose name is not an identifier (`setattr()`), said attribute must be retrieved with `getattr()`.\n",
    "\n",
    "2. `identifier` (also referred to as _names_)\n",
    "   \n",
    "   Within the ASCII range (U+0001..U+007F), the valid characters for identifiers: the uppercase and lowercase letters `A` through `Z`, the underscore `_` and, except for the first character, the digits `0` through `9`.\n",
    "\n",
    "3. `keywords`\n",
    "   \n",
    "   Reserved words used for Python and cannot be used as ordinary identifiers.\n",
    "\n",
    "   __Example:__\n",
    "   ```py\n",
    "   False      await      else       import     pass\n",
    "   None       break      except     in         raise\n",
    "   True       class      finally    is         return\n",
    "   and        continue   for        lambda     try\n",
    "   as         def        from       nonlocal   while\n",
    "   assert     del        global     not        with\n",
    "   async      elif       if         or         yield\n",
    "   ```\n",
    "\n",
    "4. `immutable`\n",
    "   \n",
    "   The object as represented in memory cannot be directly altered. Example: `tuple`, `string` etc.\n",
    "\n",
    "5. `static methods`\n",
    "   \n",
    "   __Example:__\n",
    "\n",
    "   ```py\n",
    "   >>> str.split('a, b, c', ',')\n",
    "   ```\n",
    "\n",
    "6. `instance methods`\n",
    "\n",
    "   Methods that are called as instances of an object.\n",
    "   \n",
    "   __Example:__\n",
    "\n",
    "   ```py\n",
    "   >>> 'a, b, c'.split(',')\n",
    "   ```\n",
    "\n",
    "7. `in-place operations`\n",
    "   \n",
    "   Operations that directly change the object on which they are called. \n",
    "\n",
    "   __Example__:\n",
    "\n",
    "   `.append()` method that is used on lists: the list is directly changed by adding the input to `.append()` to the same list.\n",
    "\n",
    "   __*Note:*__\n",
    "\n",
    "   > String methods are not __in-place operations__, but they return a _new_ object in memory.\n",
    "\n",
    "8. `statement`\n",
    "   \n",
    "   Statements are the basic units of instruction that the Python interpreter parses and processes.\n",
    "\n",
    "9. `iterable`\n",
    "\n",
    "   An object capable of returning its members one at a time. Examples of iterables include all sequence types (such as `list`, `str`, and `tuple`) and some non-sequence types like `dict`, file objects, and objects of any classes you define with an `__iter__()` method or with a `__getitem__()` method that implements sequence semantics.\n",
    "\n",
    "   > Iterators are objects which use the `iter()` or `next()` method to get the following values of a sequence.\n",
    "\n",
    "10. `generator`\n",
    "    \n",
    "    Generators are functions that produce or yield a sequence of values using the `yield` keyword.\n",
    "\n",
    "    __Example:__\n",
    "\n",
    "    ```python\n",
    "    def yes(stop):\n",
    "     for _ in range(stop):\n",
    "         yield 'yes'\n",
    "    ```"
   ]
  },
  {
   "cell_type": "markdown",
   "metadata": {},
   "source": [
    "11. `singleton list`\n",
    "    \n",
    "    A list with only a single object.\n",
    "\n",
    "12. `procedure`\n",
    "    \n",
    "    A named code block that performs a set of actions without computing a final value or result.\n",
    "\n",
    "13. `function`\n",
    "    \n",
    "    A named code block that performs some actions with the purpose of computing a final value or result, which is then sent back to the caller code.\n",
    "\n",
    "14. `arguments`\n",
    "    \n",
    "    A set of input values.\n",
    "\n",
    "15. `namespace`\n",
    "    \n",
    "    A region of a program in which identifiers have meaning.\n",
    "\n",
    "16. `stub`\n",
    "\n",
    "    Temporary placeholder for a Python function that will be fully implemented at a later time.\n",
    "\n",
    "    __Example:__\n",
    "\n",
    "    ```python\n",
    "    >>> def f():\n",
    "    ...    pass\n",
    "    ...\n",
    "    >>> f()\n",
    "    ```\n",
    "\n",
    "17. `recursion`\n",
    "\n",
    "    User defines a function that calls itself. This creates a loop that can become infinite if you don’t provide a base case that produces a result without calling the function again.\n",
    "\n",
    "18. `library`\n",
    "    \n",
    "    A set of important functions and methods that can be accessed to make programming easier.\n",
    "\n",
    "    __*Note*__:\n",
    "\n",
    "    > - A module is a set of code or functions with the .py extension. \n",
    "    >\n",
    "    > - A package is a directory of a collection of modules.\n",
    "    >\n",
    "    > - A library is a collection of related modules or packages. For example: matplotlib, PyTorch and requests.\n",
    "    >\n",
    "    >   (Libraries contain packages that perform specific operations)\n",
    "    >\n",
    "    > - A framework contains the basic flow and architecture of the application. Usually more complex than libraries. For example: django, Flask and Bottle. "
   ]
  },
  {
   "cell_type": "markdown",
   "metadata": {},
   "source": [
    "## Application Layouts"
   ]
  },
  {
   "cell_type": "markdown",
   "metadata": {},
   "source": [
    "### Basic layout:\n",
    "\n",
    "```\n",
    "helloworld/\n",
    "│\n",
    "├── .gitignore\n",
    "├── helloworld.py\n",
    "├── LICENSE\n",
    "├── README.md\n",
    "├── requirements.txt\n",
    "├── setup.py\n",
    "└── tests.py\n",
    "```\n",
    "\n",
    "### Installable Single Package:\n",
    "\n",
    "`__init__.py` is invoked when the package or a module in the package is imported. This can be used for execution of package initialization code (initialization of package-level data).\n",
    "\n",
    "It can also be used to effect automatic importing of modules from a package.\n",
    "\n",
    "```\n",
    "helloworld/\n",
    "│\n",
    "├── helloworld/\n",
    "│   ├── __init__.py\n",
    "│   ├── helloworld.py\n",
    "│   └── helpers.py\n",
    "│\n",
    "├── tests/\n",
    "│   ├── helloworld_tests.py\n",
    "│   └── helpers_tests.py\n",
    "│\n",
    "├── .gitignore\n",
    "├── LICENSE\n",
    "├── README.md\n",
    "├── requirements.txt\n",
    "└── setup.py\n",
    "```\n",
    "\n",
    "### Application with Internal Packages:\n",
    "\n",
    "```\n",
    "helloworld/\n",
    "│\n",
    "├── bin/\n",
    "│\n",
    "├── docs/\n",
    "│   ├── hello.md\n",
    "│   └── world.md\n",
    "│\n",
    "├── helloworld/\n",
    "│   ├── __init__.py\n",
    "│   ├── runner.py\n",
    "│   ├── hello/\n",
    "│   │   ├── __init__.py\n",
    "│   │   ├── hello.py\n",
    "│   │   └── helpers.py\n",
    "│   │\n",
    "│   └── world/\n",
    "│       ├── __init__.py\n",
    "│       ├── helpers.py\n",
    "│       └── world.py\n",
    "│\n",
    "├── data/\n",
    "│   ├── input.csv\n",
    "│   └── output.xlsx\n",
    "│\n",
    "├── tests/\n",
    "│   ├── hello\n",
    "│   │   ├── helpers_tests.py\n",
    "│   │   └── hello_tests.py\n",
    "│   │\n",
    "│   └── world/\n",
    "│       ├── helpers_tests.py\n",
    "│       └── world_tests.py\n",
    "│\n",
    "├── .gitignore\n",
    "├── LICENSE\n",
    "└── README.md\n",
    "```"
   ]
  },
  {
   "cell_type": "markdown",
   "metadata": {},
   "source": [
    "## Python Namespaces and Scopes"
   ]
  },
  {
   "cell_type": "markdown",
   "metadata": {},
   "source": [
    "### LEGB Rule for Namespaces\n",
    "\n",
    "Built-in (Names of all of Python's built-in objects)\n",
    "    Global (Contains any names defined at the level of the main program,\n",
    "            variables defined by `global` keyword, \n",
    "            any module the program loads with `import` statement)\n",
    "        Enclosing (Function A)\n",
    "            Local (Function B defined in Function A)\n",
    "\n",
    "Objects in global namespace can be accessed through the built-in `global()` function.\n",
    "\n",
    "Objects in the local namespace can be accessed through the built-in `locals()` function."
   ]
  },
  {
   "cell_type": "markdown",
   "metadata": {},
   "source": [
    "### Global scope"
   ]
  },
  {
   "cell_type": "code",
   "execution_count": 9,
   "metadata": {},
   "outputs": [
    {
     "name": "stdout",
     "output_type": "stream",
     "text": [
      "Inside f(): 20\n",
      "Glabal: 40\n"
     ]
    }
   ],
   "source": [
    "def f():\n",
    "    x = 20\n",
    "\n",
    "    def g():\n",
    "        global x\n",
    "        x = 40\n",
    "\n",
    "    g()\n",
    "    print('Inside f(): ' + str(x))\n",
    "\n",
    "f()\n",
    "print('Glabal: ' + str(x))"
   ]
  },
  {
   "cell_type": "markdown",
   "metadata": {},
   "source": [
    "### Modify enclosing variables using `nonlocal` keyword"
   ]
  },
  {
   "cell_type": "code",
   "execution_count": 10,
   "metadata": {},
   "outputs": [
    {
     "name": "stdout",
     "output_type": "stream",
     "text": [
      "40\n"
     ]
    }
   ],
   "source": [
    "def f():\n",
    "    x = 20\n",
    "\n",
    "    def g():\n",
    "        nonlocal x\n",
    "        x = 40\n",
    "\n",
    "    g()\n",
    "    print(x)\n",
    "\n",
    "f()"
   ]
  },
  {
   "cell_type": "markdown",
   "metadata": {},
   "source": [
    "## Data Types"
   ]
  },
  {
   "cell_type": "markdown",
   "metadata": {},
   "source": [
    "### Integers\n",
    "\n",
    "In Python 3, there is effectively no limit to how long an integer value can be (still constrained by the amount of memory the system has)."
   ]
  },
  {
   "cell_type": "markdown",
   "metadata": {},
   "source": [
    "### Floating-Point Numbers\n",
    "\n",
    "`float` values are specified with a decimal point, or optionally, the character `e` or `E` followed by a positive or negative integer (scientific notation).\n",
    "\n",
    "If a floating-point number is greater than the upper limit, Python will indicate the number by the string `inf`:\n",
    "\n",
    "```python\n",
    ">>> 1.79e308\n",
    "1.79e+308\n",
    ">>> 1.8e308\n",
    "inf\n",
    "```\n",
    "\n",
    "The closest a nonzero number can be to zero is approximately 5.0 x 10^(-324). Anything closer to a zero than that is effectively zero."
   ]
  },
  {
   "cell_type": "markdown",
   "metadata": {},
   "source": [
    "### String\n",
    "\n",
    "| **Escaped Sequence** |          **\"Escaped\" Interpretation**         |\n",
    "|:--------------------:|:---------------------------------------------:|\n",
    "|         \\ooo         |         Character with octal value ooo        |\n",
    "|         \\xhh         |          Character with hex value hh          |"
   ]
  },
  {
   "cell_type": "markdown",
   "metadata": {},
   "source": [
    "## Built-in String Functions"
   ]
  },
  {
   "cell_type": "markdown",
   "metadata": {},
   "source": [
    "1. `ord(c)`\n",
    "   \n",
    "   > Returns an integer value for the given character.\n",
    "\n",
    "   At the most basic level, computers store all information as numbers. To represent character data, a translation scheme is used which maps each character to its representative number.\n",
    "\n",
    "   The simplest scheme in common use is called ASCII. It covers the common Latin characters you are probably most accustomed to working with. Another common scheme used is Unicode. Unicode is an ambitious standard that attempts to provide a numeric code for every possible character, in every possible language, on every possible platform. Python 3 supports Unicode extensively, including allowing Unicode characters within strings."
   ]
  },
  {
   "cell_type": "code",
   "execution_count": 11,
   "metadata": {},
   "outputs": [
    {
     "name": "stdout",
     "output_type": "stream",
     "text": [
      "97\n",
      "35\n",
      "8364\n",
      "8721\n"
     ]
    }
   ],
   "source": [
    "# ASCII scheme\n",
    "print(ord('a'))\n",
    "print(ord('#'))\n",
    "\n",
    "# Unicode scheme\n",
    "print(ord('€'))\n",
    "print(ord('∑'))"
   ]
  },
  {
   "cell_type": "markdown",
   "metadata": {},
   "source": [
    "2. `chr(n)`\n",
    "   \n",
    "   > Returns a character value for the given integer.\n",
    "\n",
    "   This function does the reverse of `ord()`."
   ]
  },
  {
   "cell_type": "code",
   "execution_count": 12,
   "metadata": {},
   "outputs": [
    {
     "name": "stdout",
     "output_type": "stream",
     "text": [
      "a\n",
      "#\n",
      "€\n",
      "∑\n"
     ]
    }
   ],
   "source": [
    "# ASCII scheme\n",
    "print(chr(97))\n",
    "print(chr(35))\n",
    "\n",
    "# Unicode scheme\n",
    "print(chr(8364))\n",
    "print(chr(8721))"
   ]
  },
  {
   "cell_type": "markdown",
   "metadata": {},
   "source": [
    "3. `len(s)`\n",
    "   \n",
    "   > Returns the length of a string.\n",
    "\n",
    "   This function returns the number of characters in a string:"
   ]
  },
  {
   "cell_type": "code",
   "execution_count": 13,
   "metadata": {},
   "outputs": [
    {
     "name": "stdout",
     "output_type": "stream",
     "text": [
      "14\n"
     ]
    }
   ],
   "source": [
    "s = 'I am a string.'\n",
    "print(len(s))"
   ]
  },
  {
   "cell_type": "markdown",
   "metadata": {},
   "source": [
    "4. `str(obj)`\n",
    "   \n",
    "   > Returns a string representation of an object."
   ]
  },
  {
   "cell_type": "code",
   "execution_count": 15,
   "metadata": {},
   "outputs": [
    {
     "name": "stdout",
     "output_type": "stream",
     "text": [
      "49.2\n",
      "(3+4j)\n",
      "32\n",
      "foo\n",
      "<class 'str'>\n"
     ]
    }
   ],
   "source": [
    "print(str(49.2))\n",
    "print(str(3+4j))\n",
    "print(str(3 + 29))\n",
    "print(str('foo'))\n",
    "\n",
    "a = str(3+4j)\n",
    "print(type(a))"
   ]
  },
  {
   "cell_type": "markdown",
   "metadata": {},
   "source": [
    "## String Formatting\n",
    "\n",
    "### 1. %-formatting"
   ]
  },
  {
   "cell_type": "code",
   "execution_count": 2,
   "metadata": {},
   "outputs": [
    {
     "name": "stdout",
     "output_type": "stream",
     "text": [
      "Hello, Eric Idle. You are 74. You are a comedian. You were a member of Monty Python.\n"
     ]
    }
   ],
   "source": [
    "first_name = \"Eric\"\n",
    "last_name = \"Idle\"\n",
    "age = 74\n",
    "profession = \"comedian\"\n",
    "affiliation = \"Monty Python\"\n",
    "print(\"Hello, %s %s. You are %s. You are a %s. You were a member of %s.\" % (first_name, last_name, age, profession, affiliation))"
   ]
  },
  {
   "cell_type": "markdown",
   "metadata": {},
   "source": [
    "__*Note*__:\n",
    "\n",
    "> Not recommended as code will quickly become less easily readable after using several parameters and longer strings. It also leads to errors like not displaying tuples or dictionaries correctly."
   ]
  },
  {
   "cell_type": "markdown",
   "metadata": {},
   "source": []
  },
  {
   "cell_type": "markdown",
   "metadata": {},
   "source": [
    "### 2. str.format()\n",
    "\n",
    "Replacement fields are marked by curly braces and can reference variables in any order by referencing their index."
   ]
  },
  {
   "cell_type": "code",
   "execution_count": 3,
   "metadata": {},
   "outputs": [
    {
     "name": "stdout",
     "output_type": "stream",
     "text": [
      "Hello, Eric. You are 74.\n"
     ]
    }
   ],
   "source": [
    "name = 'Eric'\n",
    "age = '74'\n",
    "print(\"Hello, {}. You are {}.\".format(name, age))"
   ]
  },
  {
   "cell_type": "code",
   "execution_count": 4,
   "metadata": {},
   "outputs": [
    {
     "name": "stdout",
     "output_type": "stream",
     "text": [
      "Hello, Eric. You are 74.\n"
     ]
    }
   ],
   "source": [
    "print(\"Hello, {1}. You are {0}.\".format(age, name))"
   ]
  },
  {
   "cell_type": "code",
   "execution_count": 5,
   "metadata": {},
   "outputs": [
    {
     "name": "stdout",
     "output_type": "stream",
     "text": [
      "Hello, Eric. You are 74.\n"
     ]
    }
   ],
   "source": [
    "person = {'name': 'Eric', 'age': 74}\n",
    "print(\"Hello, {name}. You are {age}.\".format(name=person['name'], age=person['age']))"
   ]
  },
  {
   "cell_type": "markdown",
   "metadata": {},
   "source": [
    "Can also use `**` with dictionaries"
   ]
  },
  {
   "cell_type": "code",
   "execution_count": 6,
   "metadata": {},
   "outputs": [
    {
     "name": "stdout",
     "output_type": "stream",
     "text": [
      "Hello, Eric. You are 74.\n"
     ]
    }
   ],
   "source": [
    "person = {'name': 'Eric', 'age': 74}\n",
    "print(\"Hello, {name}. You are {age}.\".format(**person))"
   ]
  },
  {
   "cell_type": "markdown",
   "metadata": {},
   "source": [
    "__*Note*__:\n",
    "\n",
    "> Not really recommended to use."
   ]
  },
  {
   "cell_type": "markdown",
   "metadata": {},
   "source": [
    "### 3. f-Strings\n",
    "\n",
    "Also called \"formatted string literals\", f-strings are string literals that have an f at the beginning and curly braces containing expressions that will be replaced with their values."
   ]
  },
  {
   "cell_type": "code",
   "execution_count": 7,
   "metadata": {},
   "outputs": [
    {
     "name": "stdout",
     "output_type": "stream",
     "text": [
      "Hello, Eric. You are 74.\n"
     ]
    }
   ],
   "source": [
    "name = \"Eric\"\n",
    "age = 74\n",
    "print(f\"Hello, {name}. You are {age}.\")"
   ]
  },
  {
   "cell_type": "code",
   "execution_count": 8,
   "metadata": {},
   "outputs": [
    {
     "name": "stdout",
     "output_type": "stream",
     "text": [
      "74\n",
      "eric idle is funny.\n",
      "eric idle is funny.\n"
     ]
    }
   ],
   "source": [
    "# Example 1\n",
    "print(f\"{2 * 37}\")\n",
    "\n",
    "# Example 2\n",
    "def to_lowercase(input):\n",
    "    return input.lower()\n",
    "\n",
    "name = \"Eric Idle\"\n",
    "print(f\"{to_lowercase(name)} is funny.\")\n",
    "\n",
    "print(f\"{name.lower()} is funny.\")"
   ]
  },
  {
   "cell_type": "code",
   "execution_count": 9,
   "metadata": {},
   "outputs": [
    {
     "name": "stdout",
     "output_type": "stream",
     "text": [
      "Eric Idle is 74.\n"
     ]
    }
   ],
   "source": [
    "# Example 3\n",
    "class Comedian:\n",
    "    def __init__(self, first_name, last_name, age):\n",
    "        self.first_name = first_name\n",
    "        self.last_name = last_name\n",
    "        self.age = age\n",
    "\n",
    "    # Deal with how objects are presented as strings\n",
    "    def __str__(self):\n",
    "        return f\"{self.first_name} {self.last_name} is {self.age}.\"\n",
    "\n",
    "    # Recommended as it can be used in place of __str__()\n",
    "    def __repr__(self):\n",
    "        return f\"{self.first_name} {self.last_name} is {self.age}. Surprise!\"\n",
    "    \n",
    "new_comedian = Comedian(\"Eric\", \"Idle\", \"74\")\n",
    "print(f\"{new_comedian}\")"
   ]
  },
  {
   "cell_type": "code",
   "execution_count": 12,
   "metadata": {},
   "outputs": [
    {
     "name": "stdout",
     "output_type": "stream",
     "text": [
      "f-strings will use __str__() by default: \n",
      "Eric Idle is 74.\n",
      "\n",
      "But can make sure they use __repr__() by including the conversion flag !r: \n",
      "Eric Idle is 74. Surprise!\n"
     ]
    }
   ],
   "source": [
    "print('f-strings will use __str__() by default: ')\n",
    "print(f\"{new_comedian}\\n\")\n",
    "\n",
    "print('But can make sure they use __repr__() by including the conversion flag !r: ')\n",
    "print(f\"{new_comedian!r}\")"
   ]
  },
  {
   "cell_type": "markdown",
   "metadata": {},
   "source": [
    "__*Note*__:\n",
    "\n",
    "> Need to place an `f` in front of each line of a multiline string for f-strings to work."
   ]
  },
  {
   "cell_type": "code",
   "execution_count": 13,
   "metadata": {},
   "outputs": [
    {
     "name": "stdout",
     "output_type": "stream",
     "text": [
      "Hi Eric. You are a comedian. You were in Monty Python.\n"
     ]
    }
   ],
   "source": [
    "name = \"Eric\"\n",
    "profession = \"comedian\"\n",
    "affiliation = \"Monty Python\"\n",
    "message = (\n",
    "    f\"Hi {name}. \"\n",
    "    f\"You are a {profession}. \"\n",
    "    f\"You were in {affiliation}.\"\n",
    ")\n",
    "print(message)"
   ]
  },
  {
   "cell_type": "markdown",
   "metadata": {},
   "source": [
    "## Check if a Python String Contains a Substring"
   ]
  },
  {
   "cell_type": "code",
   "execution_count": 1,
   "metadata": {},
   "outputs": [
    {
     "name": "stdout",
     "output_type": "stream",
     "text": [
      "True\n"
     ]
    }
   ],
   "source": [
    "raw_file_content = '''Hi there and welcome. This is a special hidden file with a SECRET secret. I don't want to tell you The Secret, but I do want to secretly tell you that I have one.'''\n",
    "\n",
    "print('secret' in raw_file_content)"
   ]
  },
  {
   "cell_type": "markdown",
   "metadata": {},
   "source": [
    "__*Note:*__\n",
    "> As Python strings are case sensitive, users must be aware of the capitalization in the text."
   ]
  },
  {
   "cell_type": "markdown",
   "metadata": {},
   "source": [
    "To find where the substring occurs in the string, use the `.index()` method on the string object:"
   ]
  },
  {
   "cell_type": "code",
   "execution_count": 2,
   "metadata": {},
   "outputs": [
    {
     "name": "stdout",
     "output_type": "stream",
     "text": [
      "59\n"
     ]
    }
   ],
   "source": [
    "file_content = '''hi there and welcome. this is a special hidden file with a secret secret. i don't want to tell you the secret, but i do want to secretly tell you that i have one.'''\n",
    "\n",
    "print(file_content.index('secret'))"
   ]
  },
  {
   "cell_type": "markdown",
   "metadata": {},
   "source": [
    "### Find other occurences of the substring by skipping the first occurence\n",
    "\n",
    "The `.index()` method also takes a second argument that can define at which index position to start looking. By passing specific index positions, users can skip over occurences of the identified substring."
   ]
  },
  {
   "cell_type": "code",
   "execution_count": 3,
   "metadata": {},
   "outputs": [
    {
     "data": {
      "text/plain": [
       "66"
      ]
     },
     "execution_count": 3,
     "metadata": {},
     "output_type": "execute_result"
    }
   ],
   "source": [
    "file_content.index('secret', 60)"
   ]
  },
  {
   "cell_type": "markdown",
   "metadata": {},
   "source": [
    "To check how often a substring occurs in the text, use the `.count()` method:"
   ]
  },
  {
   "cell_type": "code",
   "execution_count": 4,
   "metadata": {},
   "outputs": [
    {
     "data": {
      "text/plain": [
       "4"
      ]
     },
     "execution_count": 4,
     "metadata": {},
     "output_type": "execute_result"
    }
   ],
   "source": [
    "file_content.count('secret')"
   ]
  },
  {
   "cell_type": "code",
   "execution_count": 5,
   "metadata": {},
   "outputs": [
    {
     "name": "stdout",
     "output_type": "stream",
     "text": [
      "secret\n",
      "secret.\n",
      "secret,\n",
      "secretly\n"
     ]
    }
   ],
   "source": [
    "for word in file_content.split():\n",
    "    if 'secret' in word:\n",
    "        print(word)"
   ]
  },
  {
   "cell_type": "code",
   "execution_count": 6,
   "metadata": {},
   "outputs": [
    {
     "data": {
      "text/plain": [
       "['secret', 'secret.', 'secret,', 'secretly']"
      ]
     },
     "execution_count": 6,
     "metadata": {},
     "output_type": "execute_result"
    }
   ],
   "source": [
    "# Save the substrings in a new list by using a list comprehension with a conditional expression\n",
    "[word for word in file_content.split() if 'secret' in word]"
   ]
  },
  {
   "cell_type": "markdown",
   "metadata": {},
   "source": [
    "## Exceptions"
   ]
  },
  {
   "cell_type": "markdown",
   "metadata": {},
   "source": [
    "Use `raise` to throw an exception if a condition occurs.\n",
    "\n"
   ]
  },
  {
   "cell_type": "markdown",
   "metadata": {},
   "source": [
    "### The `AssertionError` Exception\n",
    "\n",
    "User `assert` that a certain condition is met; if condition is `True`, program will continue; if condition is `False`, the program will throw an `AssertionError` exception."
   ]
  },
  {
   "cell_type": "code",
   "execution_count": 14,
   "metadata": {},
   "outputs": [
    {
     "ename": "AssertionError",
     "evalue": "This code runs on Linux only.",
     "output_type": "error",
     "traceback": [
      "\u001b[1;31m---------------------------------------------------------------------------\u001b[0m",
      "\u001b[1;31mAssertionError\u001b[0m                            Traceback (most recent call last)",
      "Cell \u001b[1;32mIn[14], line 4\u001b[0m\n\u001b[0;32m      1\u001b[0m \u001b[39m# Example\u001b[39;00m\n\u001b[0;32m      2\u001b[0m \u001b[39mimport\u001b[39;00m \u001b[39msys\u001b[39;00m\n\u001b[1;32m----> 4\u001b[0m \u001b[39massert\u001b[39;00m(\u001b[39m'\u001b[39m\u001b[39mlinux\u001b[39m\u001b[39m'\u001b[39m \u001b[39min\u001b[39;00m sys\u001b[39m.\u001b[39mplatform), \u001b[39m'\u001b[39m\u001b[39mThis code runs on Linux only.\u001b[39m\u001b[39m'\u001b[39m\n",
      "\u001b[1;31mAssertionError\u001b[0m: This code runs on Linux only."
     ]
    }
   ],
   "source": [
    "# Example\n",
    "import sys\n",
    "\n",
    "assert('linux' in sys.platform), 'This code runs on Linux only.'"
   ]
  },
  {
   "cell_type": "markdown",
   "metadata": {},
   "source": [
    "### `try` and `except` Block: Handling Exceptions"
   ]
  },
  {
   "cell_type": "markdown",
   "metadata": {},
   "source": [
    "`try`:\n",
    "```\n",
    "    Executes normal code following the statement.\n",
    "```\n",
    "\n",
    "`except`:\n",
    "```\n",
    "    The program's response to any exceptions in the preceding try clause.\n",
    "```"
   ]
  },
  {
   "cell_type": "code",
   "execution_count": 15,
   "metadata": {},
   "outputs": [
    {
     "name": "stdout",
     "output_type": "stream",
     "text": [
      "Linux function was not executed.\n"
     ]
    }
   ],
   "source": [
    "def linux_interaction():\n",
    "    assert('linux' in sys.platform), 'Function can only run on Linux systems.'\n",
    "    print('Doing something.')\n",
    "\n",
    "try:\n",
    "    linux_interaction()\n",
    "except:\n",
    "    print('Linux function was not executed.')"
   ]
  },
  {
   "cell_type": "code",
   "execution_count": 16,
   "metadata": {},
   "outputs": [
    {
     "name": "stdout",
     "output_type": "stream",
     "text": [
      "Function can only run on Linux systems.\n",
      "The linux_interaction() function was not executed.\n"
     ]
    }
   ],
   "source": [
    "def linux_interaction():\n",
    "    assert('linux' in sys.platform), 'Function can only run on Linux systems.'\n",
    "    print('Doing something.')\n",
    "\n",
    "try:\n",
    "    linux_interaction()\n",
    "except AssertionError as error:\n",
    "    print(error)\n",
    "    print('The linux_interaction() function was not executed.')"
   ]
  },
  {
   "cell_type": "code",
   "execution_count": 18,
   "metadata": {},
   "outputs": [
    {
     "name": "stdout",
     "output_type": "stream",
     "text": [
      "[Errno 2] No such file or directory: 'file.log'\n"
     ]
    }
   ],
   "source": [
    "try:\n",
    "    with open('file.log') as file:\n",
    "        read_data = file.read()\n",
    "except FileNotFoundError as fnf_error:\n",
    "    print(fnf_error)"
   ]
  },
  {
   "cell_type": "markdown",
   "metadata": {},
   "source": [
    "## Tuple\n",
    "\n",
    "When defining singleton tuples (tuples with a single object), make sure to add a comma `,` before the closing bracket; or else, Python will treat it as a normal operator precedence symbol.\n",
    "\n",
    "__Example:__"
   ]
  },
  {
   "cell_type": "code",
   "execution_count": 6,
   "metadata": {},
   "outputs": [
    {
     "name": "stdout",
     "output_type": "stream",
     "text": [
      "a is of type \"int\": \n",
      "<class 'int'>\n",
      "\n",
      "Now a is of type \"tuple\"\n",
      "<class 'tuple'>\n"
     ]
    }
   ],
   "source": [
    "a = (2)\n",
    "print('a is of type \"int\": ')\n",
    "print(type(a))\n",
    "\n",
    "a = (2,)\n",
    "print('\\nNow a is of type \"tuple\"')\n",
    "print(type(a))"
   ]
  },
  {
   "cell_type": "markdown",
   "metadata": {},
   "source": [
    "### Swapping values using tuple assignment\n",
    "\n",
    "Typically, swapping value requires an assignment of an temporary variable to store the swapped value."
   ]
  },
  {
   "cell_type": "code",
   "execution_count": 8,
   "metadata": {},
   "outputs": [
    {
     "name": "stdout",
     "output_type": "stream",
     "text": [
      "foo bar\n",
      "bar foo\n"
     ]
    }
   ],
   "source": [
    "a = 'foo'\n",
    "b = 'bar'\n",
    "print(a, b)\n",
    "\n",
    "# We need to define a temp variable to accomplish the swap.\n",
    "temp = a\n",
    "a = b\n",
    "b = temp\n",
    "print(a, b)"
   ]
  },
  {
   "cell_type": "markdown",
   "metadata": {},
   "source": [
    "However, in Python, the swapping can be done with a single tuple assignment:"
   ]
  },
  {
   "cell_type": "code",
   "execution_count": 9,
   "metadata": {},
   "outputs": [
    {
     "name": "stdout",
     "output_type": "stream",
     "text": [
      "foo bar\n",
      "bar foo\n"
     ]
    }
   ],
   "source": [
    "a = 'foo'\n",
    "b = 'bar'\n",
    "print(a, b)\n",
    "\n",
    "# Magic time!\n",
    "a, b = b, a\n",
    "print(a, b)"
   ]
  }
 ],
 "metadata": {
  "kernelspec": {
   "display_name": "Python 3",
   "language": "python",
   "name": "python3"
  },
  "language_info": {
   "codemirror_mode": {
    "name": "ipython",
    "version": 3
   },
   "file_extension": ".py",
   "mimetype": "text/x-python",
   "name": "python",
   "nbconvert_exporter": "python",
   "pygments_lexer": "ipython3",
   "version": "3.11.2"
  },
  "orig_nbformat": 4
 },
 "nbformat": 4,
 "nbformat_minor": 2
}
